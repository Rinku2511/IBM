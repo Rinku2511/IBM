{
 "cells": [
  {
   "cell_type": "markdown",
   "id": "6fb66781",
   "metadata": {},
   "source": [
    "## 2. Exercise 2 - Create a markdown cell with the title of the notebook.\n",
    "\n",
    "### Assignment 1"
   ]
  },
  {
   "cell_type": "markdown",
   "id": "f65ed51c",
   "metadata": {},
   "source": [
    "### Exercise 3 - Create a markdown cell for an introduction. \n",
    "\n",
    "We can write Data science project and business problem introduction here"
   ]
  },
  {
   "cell_type": "markdown",
   "id": "f06ae0ce",
   "metadata": {},
   "source": [
    "### Exercise 4 - Create a markdown cell to list data science languages.\n",
    "\n",
    "1. Python\n",
    "2. R\n",
    "3. Scala\n",
    "4. Julia\n",
    "5. SQL \n",
    "and etc..."
   ]
  },
  {
   "cell_type": "markdown",
   "id": "16e42fc1",
   "metadata": {},
   "source": [
    "### Exercise 5 - Create a markdown cell to list data science libraries.\n",
    "\n",
    "1. NumPy \n",
    "2. Keras \n",
    "3. Pandas \n",
    "4. PyTorch \n",
    "5. SciPy \n",
    "6. Scikit-Learn \n",
    "7. TensorFlow \n",
    "8. Matplotlib \n",
    "and etc...."
   ]
  },
  {
   "cell_type": "markdown",
   "id": "4734154f",
   "metadata": {},
   "source": [
    "### Exercise 6 - Create a markdown cell with a table of Data Science tools. \n",
    "\n",
    "| Column 1 | Column 2 | Column 3 |\n",
    "|:--------:|:--------:|:--------:|\n",
    "|  Row 1   |  Row 1   |  Row 1   |\n",
    "|  Row 2   |  Row 2   |  Row 2   |\n",
    "|  Row 3   |  Row 3   |  Row 3   |"
   ]
  },
  {
   "cell_type": "markdown",
   "id": "24352b18",
   "metadata": {},
   "source": [
    "### Exercise 7 - Create a markdown cell introducing arithmetic expression examples.\n",
    "\n",
    "$ y = a + b x $\n",
    "\n",
    "$ \\sqrt[2]{x^2+y^2} $\n",
    "\n",
    "$$\n",
    "\\left [\n",
    "\\begin{matrix}\n",
    "1 & 2 & 3 \\\\\n",
    "4 & 5 & 6 \\\\\n",
    "7 & 8 & 9\n",
    "\\end{matrix}\n",
    "\\right ] \\tag{3-3}\n",
    "$$\n",
    "\n",
    "$ \\overrightarrow{AB}*\\vec A $"
   ]
  },
  {
   "cell_type": "code",
   "execution_count": 8,
   "id": "5883e585",
   "metadata": {},
   "outputs": [
    {
     "data": {
      "text/plain": [
       "120"
      ]
     },
     "execution_count": 8,
     "metadata": {},
     "output_type": "execute_result"
    }
   ],
   "source": [
    "# Exercise 8 - Create a code cell to multiply and add numbers.\n",
    "\n",
    "a = 10\n",
    "b = 12\n",
    "\n",
    "a * b"
   ]
  },
  {
   "cell_type": "code",
   "execution_count": 9,
   "id": "04d86fd6",
   "metadata": {},
   "outputs": [
    {
     "data": {
      "text/plain": [
       "22"
      ]
     },
     "execution_count": 9,
     "metadata": {},
     "output_type": "execute_result"
    }
   ],
   "source": [
    "a + b"
   ]
  },
  {
   "cell_type": "code",
   "execution_count": 20,
   "id": "be2c1001",
   "metadata": {},
   "outputs": [
    {
     "data": {
      "text/plain": [
       "2"
      ]
     },
     "execution_count": 20,
     "metadata": {},
     "output_type": "execute_result"
    }
   ],
   "source": [
    "# Exercise 9 - Create a code cell to convert minutes to hours.\n",
    "\n",
    "# 60 min = 1 hour\n",
    "\n",
    "y = 60 #min = 1 hour\n",
    "x = 126 #min\n",
    "\n",
    "x//y "
   ]
  },
  {
   "cell_type": "code",
   "execution_count": 22,
   "id": "3c58d6e6",
   "metadata": {},
   "outputs": [
    {
     "name": "stdout",
     "output_type": "stream",
     "text": [
      "Enter time in minutes = 128\n",
      "Hours= 2\n",
      "Minutes= 8\n"
     ]
    }
   ],
   "source": [
    "min = int(input(\"Enter time in minutes = \"))\n",
    "h = min//60\n",
    "m = min%60\n",
    "print(\"Hours=\",h)\n",
    "print(\"Minutes=\",m)"
   ]
  },
  {
   "cell_type": "markdown",
   "id": "e5ca9c78",
   "metadata": {},
   "source": [
    "### Exercise 10 - Insert a markdown cell to list Objectives.\n",
    "\n",
    "* learning new techniques and frameworks\n",
    "* Improving data literacy and communication skills\n",
    "* Increasing data-driven decision making\n",
    "* Solving business problems"
   ]
  },
  {
   "cell_type": "markdown",
   "id": "4835fe8d",
   "metadata": {},
   "source": [
    "### Exercise 11 - Create a markdown cell to indicate the Author’s name. \n",
    "\n",
    "\"Title\": \"This is my first assignment\",\n",
    "\"Authors\": [{ \"name\": \"Rinku Patel\"}]"
   ]
  },
  {
   "cell_type": "markdown",
   "id": "eef87da8",
   "metadata": {},
   "source": []
  },
  {
   "cell_type": "code",
   "execution_count": null,
   "id": "ac4efd83",
   "metadata": {},
   "outputs": [],
   "source": []
  }
 ],
 "metadata": {
  "kernelspec": {
   "display_name": "Python 3 (ipykernel)",
   "language": "python",
   "name": "python3"
  },
  "language_info": {
   "codemirror_mode": {
    "name": "ipython",
    "version": 3
   },
   "file_extension": ".py",
   "mimetype": "text/x-python",
   "name": "python",
   "nbconvert_exporter": "python",
   "pygments_lexer": "ipython3",
   "version": "3.9.12"
  }
 },
 "nbformat": 4,
 "nbformat_minor": 5
}
