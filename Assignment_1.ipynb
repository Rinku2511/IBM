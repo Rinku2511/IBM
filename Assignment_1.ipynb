{
 "cells": [
  {
   "cell_type": "markdown",
   "id": "6d567c3c",
   "metadata": {},
   "source": [
    "## 2. Exercise 2 - Create a markdown cell with the title of the notebook.\n",
    "\n",
    "\n",
    "# Data science tools"
   ]
  },
  {
   "cell_type": "markdown",
   "id": "19cb73db",
   "metadata": {},
   "source": [
    "### Exercise 3 - Create a markdown cell for an introduction. \n",
    "\n",
    "We can write Data science project and business problem introduction here"
   ]
  },
  {
   "cell_type": "markdown",
   "id": "34242680",
   "metadata": {},
   "source": [
    "### Exercise 10 - Insert a markdown cell to list Objectives.\n",
    "\n",
    "**Objectives**\n",
    "\n",
    "* learning new techniques and frameworks\n",
    "* Improving data literacy and communication skills\n",
    "* Increasing data-driven decision making\n",
    "* Solving business problems"
   ]
  },
  {
   "cell_type": "markdown",
   "id": "c67b1c16",
   "metadata": {},
   "source": [
    "### Exercise 4 - Create a markdown cell to list data science languages.\n",
    "\n",
    "Some of the popular languages that Data Scientists use are:\n",
    "\n",
    "1. Python\n",
    "2. R\n",
    "3. Scala\n",
    "4. Julia\n",
    "5. SQL\n",
    "6. Java\n",
    "7. C++"
   ]
  },
  {
   "cell_type": "markdown",
   "id": "57a6bd75",
   "metadata": {},
   "source": [
    "### Exercise 5 - Create a markdown cell to list data science libraries.\n",
    "\n",
    "Some of the commonly used libraries used by Data Scientists include:\n",
    "\n",
    "1. NumPy \n",
    "2. Keras \n",
    "3. Pandas \n",
    "4. PyTorch \n",
    "5. SciPy \n",
    "6. Scikit-Learn \n",
    "7. TensorFlow \n",
    "8. Matplotlib \n",
    "and etc...."
   ]
  },
  {
   "cell_type": "markdown",
   "id": "fd01f5ad",
   "metadata": {},
   "source": [
    "### Exercise 6 - Create a markdown cell with a table of Data Science tools. \n",
    "\n",
    "| Data Science Tools  |\n",
    "|:--------:|\n",
    "|  Anaconda   | \n",
    "|  Jupyter Notebooks  | \n",
    "|  R Studio   | \n",
    "|  Zeppelin | \n",
    "|  Spyder |"
   ]
  },
  {
   "cell_type": "markdown",
   "id": "ea225054",
   "metadata": {},
   "source": [
    "### Exercise 7 - Create a markdown cell introducing arithmetic expression examples.\n",
    "\n",
    "### Below are a few examples of evaluating erithmetic expression in python\n",
    "\n",
    "$ y = a + b x $\n",
    "\n",
    "$ \\sqrt[2]{x^2+y^2} $\n",
    "\n",
    "$ \\overrightarrow{AB}*\\vec A $"
   ]
  },
  {
   "cell_type": "code",
   "execution_count": 24,
   "id": "5e578182",
   "metadata": {},
   "outputs": [
    {
     "data": {
      "text/plain": [
       "17"
      ]
     },
     "execution_count": 24,
     "metadata": {},
     "output_type": "execute_result"
    }
   ],
   "source": [
    "# Exercise 8 - Create a code cell to multiply and add numbers.\n",
    "\n",
    "(5*3)+2"
   ]
  },
  {
   "cell_type": "code",
   "execution_count": 9,
   "id": "85ed775b",
   "metadata": {},
   "outputs": [
    {
     "data": {
      "text/plain": [
       "22"
      ]
     },
     "execution_count": 9,
     "metadata": {},
     "output_type": "execute_result"
    }
   ],
   "source": [
    "a + b"
   ]
  },
  {
   "cell_type": "code",
   "execution_count": 36,
   "id": "de8369fb",
   "metadata": {},
   "outputs": [
    {
     "data": {
      "text/plain": [
       "3.33"
      ]
     },
     "execution_count": 36,
     "metadata": {},
     "output_type": "execute_result"
    }
   ],
   "source": [
    "# Exercise 9 - Create a code cell to convert minutes to hours.\n",
    "\n",
    "\n",
    "# 60 min = 1 hour\n",
    "\n",
    "y = 60 #min = 1 hour\n",
    "x = 200 #min\n",
    "\n",
    "(x/y)\n"
   ]
  },
  {
   "cell_type": "markdown",
   "id": "7fe71d08",
   "metadata": {},
   "source": [
    "### Exercise 11 - Create a markdown cell to indicate the Author’s name. \n",
    "\n",
    "## Authors\n",
    "\n",
    "Rinku Patel\n"
   ]
  },
  {
   "cell_type": "markdown",
   "id": "22e948b3",
   "metadata": {},
   "source": []
  },
  {
   "cell_type": "code",
   "execution_count": null,
   "id": "6de9ed74",
   "metadata": {},
   "outputs": [],
   "source": []
  }
 ],
 "metadata": {
  "kernelspec": {
   "display_name": "Python 3 (ipykernel)",
   "language": "python",
   "name": "python3"
  },
  "language_info": {
   "codemirror_mode": {
    "name": "ipython",
    "version": 3
   },
   "file_extension": ".py",
   "mimetype": "text/x-python",
   "name": "python",
   "nbconvert_exporter": "python",
   "pygments_lexer": "ipython3",
   "version": "3.9.12"
  }
 },
 "nbformat": 4,
 "nbformat_minor": 5
}
